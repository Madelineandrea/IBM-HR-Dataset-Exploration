{
  "metadata": {
    "kernelspec": {
      "language": "python",
      "display_name": "Python 3",
      "name": "python3"
    },
    "language_info": {
      "name": "python",
      "version": "3.10.13",
      "mimetype": "text/x-python",
      "codemirror_mode": {
        "name": "ipython",
        "version": 3
      },
      "pygments_lexer": "ipython3",
      "nbconvert_exporter": "python",
      "file_extension": ".py"
    },
    "kaggle": {
      "accelerator": "none",
      "dataSources": [
        {
          "sourceId": 1925,
          "sourceType": "datasetVersion",
          "datasetId": 1067
        }
      ],
      "dockerImageVersionId": 30673,
      "isInternetEnabled": true,
      "language": "python",
      "sourceType": "notebook",
      "isGpuEnabled": false
    },
    "colab": {
      "name": "IBM HR Dataset Exploration",
      "provenance": []
    }
  },
  "nbformat_minor": 0,
  "nbformat": 4,
  "cells": [
    {
      "source": [
        "\n",
        "# IMPORTANT: RUN THIS CELL IN ORDER TO IMPORT YOUR KAGGLE DATA SOURCES\n",
        "# TO THE CORRECT LOCATION (/kaggle/input) IN YOUR NOTEBOOK,\n",
        "# THEN FEEL FREE TO DELETE THIS CELL.\n",
        "# NOTE: THIS NOTEBOOK ENVIRONMENT DIFFERS FROM KAGGLE'S PYTHON\n",
        "# ENVIRONMENT SO THERE MAY BE MISSING LIBRARIES USED BY YOUR\n",
        "# NOTEBOOK.\n",
        "\n",
        "import os\n",
        "import sys\n",
        "from tempfile import NamedTemporaryFile\n",
        "from urllib.request import urlopen\n",
        "from urllib.parse import unquote, urlparse\n",
        "from urllib.error import HTTPError\n",
        "from zipfile import ZipFile\n",
        "import tarfile\n",
        "import shutil\n",
        "\n",
        "CHUNK_SIZE = 40960\n",
        "DATA_SOURCE_MAPPING = 'ibm-hr-analytics-attrition-dataset:https%3A%2F%2Fstorage.googleapis.com%2Fkaggle-data-sets%2F1067%2F1925%2Fbundle%2Farchive.zip%3FX-Goog-Algorithm%3DGOOG4-RSA-SHA256%26X-Goog-Credential%3Dgcp-kaggle-com%2540kaggle-161607.iam.gserviceaccount.com%252F20240512%252Fauto%252Fstorage%252Fgoog4_request%26X-Goog-Date%3D20240512T171902Z%26X-Goog-Expires%3D259200%26X-Goog-SignedHeaders%3Dhost%26X-Goog-Signature%3D5653670513254e7cacec732608dd196410dceb7c4f80597ac934958e94ae0ef47c9bd838fa68024e306b5a2c41d14829b993ed30e696d81f1ee90e40612fdb28cd7f63b9e8ed0608a8168d2272c6b98ff90b9beb7ef955ae1da1f000764649769a30292bf6d79f35783e2226471db630b97f1125a5cecf63ae2493486f3162bbc7fcbc12b696d1f69966007bcf0bdde67a1f88c710086f7a7932ea6a32db9f19bbc8c0c8a616c006e604f5b23f1617118476a78a49c06dda47c34e83f931a8a425bfbd374c9319764b4084ebf11677f44ca1ab09a4dfdeb3e50d8b954e26e99b02375abc2c874704faf167f45c6cc4c4fe222b0ad701bb102989c9d6ade0ba1a'\n",
        "\n",
        "KAGGLE_INPUT_PATH='/kaggle/input'\n",
        "KAGGLE_WORKING_PATH='/kaggle/working'\n",
        "KAGGLE_SYMLINK='kaggle'\n",
        "\n",
        "!umount /kaggle/input/ 2> /dev/null\n",
        "shutil.rmtree('/kaggle/input', ignore_errors=True)\n",
        "os.makedirs(KAGGLE_INPUT_PATH, 0o777, exist_ok=True)\n",
        "os.makedirs(KAGGLE_WORKING_PATH, 0o777, exist_ok=True)\n",
        "\n",
        "try:\n",
        "  os.symlink(KAGGLE_INPUT_PATH, os.path.join(\"..\", 'input'), target_is_directory=True)\n",
        "except FileExistsError:\n",
        "  pass\n",
        "try:\n",
        "  os.symlink(KAGGLE_WORKING_PATH, os.path.join(\"..\", 'working'), target_is_directory=True)\n",
        "except FileExistsError:\n",
        "  pass\n",
        "\n",
        "for data_source_mapping in DATA_SOURCE_MAPPING.split(','):\n",
        "    directory, download_url_encoded = data_source_mapping.split(':')\n",
        "    download_url = unquote(download_url_encoded)\n",
        "    filename = urlparse(download_url).path\n",
        "    destination_path = os.path.join(KAGGLE_INPUT_PATH, directory)\n",
        "    try:\n",
        "        with urlopen(download_url) as fileres, NamedTemporaryFile() as tfile:\n",
        "            total_length = fileres.headers['content-length']\n",
        "            print(f'Downloading {directory}, {total_length} bytes compressed')\n",
        "            dl = 0\n",
        "            data = fileres.read(CHUNK_SIZE)\n",
        "            while len(data) > 0:\n",
        "                dl += len(data)\n",
        "                tfile.write(data)\n",
        "                done = int(50 * dl / int(total_length))\n",
        "                sys.stdout.write(f\"\\r[{'=' * done}{' ' * (50-done)}] {dl} bytes downloaded\")\n",
        "                sys.stdout.flush()\n",
        "                data = fileres.read(CHUNK_SIZE)\n",
        "            if filename.endswith('.zip'):\n",
        "              with ZipFile(tfile) as zfile:\n",
        "                zfile.extractall(destination_path)\n",
        "            else:\n",
        "              with tarfile.open(tfile.name) as tarfile:\n",
        "                tarfile.extractall(destination_path)\n",
        "            print(f'\\nDownloaded and uncompressed: {directory}')\n",
        "    except HTTPError as e:\n",
        "        print(f'Failed to load (likely expired) {download_url} to path {destination_path}')\n",
        "        continue\n",
        "    except OSError as e:\n",
        "        print(f'Failed to load {download_url} to path {destination_path}')\n",
        "        continue\n",
        "\n",
        "print('Data source import complete.')\n"
      ],
      "metadata": {
        "id": "tkcPm21S0L1k"
      },
      "cell_type": "code",
      "outputs": [],
      "execution_count": null
    },
    {
      "cell_type": "markdown",
      "source": [
        "# Dataset Exploration"
      ],
      "metadata": {
        "id": "oaYSjzeh0L1u"
      }
    },
    {
      "cell_type": "markdown",
      "source": [
        "Kelompok 6 - LF01\n",
        "* Abygael Adrianty Putri (2602242271)\n",
        "* Axell Prita Aurelie Atmojo (2602143201)\n",
        "* Madeline Andrea Sofian (2602169371)\n",
        "* Ni Putu Ayu Sekar Pradnya Dewi (2602161160)"
      ],
      "metadata": {
        "id": "eOcZElz20L1y"
      }
    },
    {
      "cell_type": "code",
      "source": [
        "import pandas as pd\n",
        "from matplotlib import pyplot as plt\n",
        "import seaborn as sns\n",
        "import numpy as np"
      ],
      "metadata": {
        "_uuid": "8f2839f25d086af736a60e9eeb907d3b93b6e0e5",
        "_cell_guid": "b1076dfc-b9ad-4769-8c92-a6c4dae69d19",
        "execution": {
          "iopub.status.busy": "2024-03-25T10:10:22.849357Z",
          "iopub.execute_input": "2024-03-25T10:10:22.849761Z",
          "iopub.status.idle": "2024-03-25T10:10:22.855184Z",
          "shell.execute_reply.started": "2024-03-25T10:10:22.849727Z",
          "shell.execute_reply": "2024-03-25T10:10:22.854086Z"
        },
        "trusted": true,
        "id": "84PxklZv0L1z"
      },
      "execution_count": null,
      "outputs": []
    },
    {
      "cell_type": "code",
      "source": [
        "DATA_PATH = \"/kaggle/input/ibm-hr-analytics-attrition-dataset/WA_Fn-UseC_-HR-Employee-Attrition.csv\""
      ],
      "metadata": {
        "execution": {
          "iopub.status.busy": "2024-03-25T10:10:25.129481Z",
          "iopub.execute_input": "2024-03-25T10:10:25.1299Z",
          "iopub.status.idle": "2024-03-25T10:10:25.135883Z",
          "shell.execute_reply.started": "2024-03-25T10:10:25.129865Z",
          "shell.execute_reply": "2024-03-25T10:10:25.134144Z"
        },
        "trusted": true,
        "id": "C1lzYnaE0L10"
      },
      "execution_count": null,
      "outputs": []
    },
    {
      "cell_type": "code",
      "source": [
        "data = pd.read_csv(DATA_PATH)"
      ],
      "metadata": {
        "execution": {
          "iopub.status.busy": "2024-03-25T10:10:27.453042Z",
          "iopub.execute_input": "2024-03-25T10:10:27.453386Z",
          "iopub.status.idle": "2024-03-25T10:10:27.46913Z",
          "shell.execute_reply.started": "2024-03-25T10:10:27.453358Z",
          "shell.execute_reply": "2024-03-25T10:10:27.467967Z"
        },
        "trusted": true,
        "id": "W-yIQ1VR0L11"
      },
      "execution_count": null,
      "outputs": []
    },
    {
      "cell_type": "markdown",
      "source": [
        "# Data Understanding"
      ],
      "metadata": {
        "id": "SllBS4ZQ0L12"
      }
    },
    {
      "cell_type": "code",
      "source": [
        "data.head()"
      ],
      "metadata": {
        "execution": {
          "iopub.status.busy": "2024-03-25T10:10:56.803364Z",
          "iopub.execute_input": "2024-03-25T10:10:56.803776Z",
          "iopub.status.idle": "2024-03-25T10:10:56.824074Z",
          "shell.execute_reply.started": "2024-03-25T10:10:56.803742Z",
          "shell.execute_reply": "2024-03-25T10:10:56.822582Z"
        },
        "trusted": true,
        "id": "bDYldRPY0L13"
      },
      "execution_count": null,
      "outputs": []
    },
    {
      "cell_type": "code",
      "source": [
        "data.info()"
      ],
      "metadata": {
        "execution": {
          "iopub.status.busy": "2024-03-25T10:10:59.294903Z",
          "iopub.execute_input": "2024-03-25T10:10:59.29528Z",
          "iopub.status.idle": "2024-03-25T10:10:59.309339Z",
          "shell.execute_reply.started": "2024-03-25T10:10:59.295251Z",
          "shell.execute_reply": "2024-03-25T10:10:59.308091Z"
        },
        "trusted": true,
        "id": "IXdUBc5k0L14"
      },
      "execution_count": null,
      "outputs": []
    },
    {
      "cell_type": "markdown",
      "source": [
        "The dataset has 26 numerical columns and 9 categorical columns."
      ],
      "metadata": {
        "id": "Swg331dA0L14"
      }
    },
    {
      "cell_type": "code",
      "source": [
        "# Describing Numerical Values\n",
        "data.describe()"
      ],
      "metadata": {
        "execution": {
          "iopub.status.busy": "2024-03-25T10:11:02.576854Z",
          "iopub.execute_input": "2024-03-25T10:11:02.57722Z",
          "iopub.status.idle": "2024-03-25T10:11:02.649383Z",
          "shell.execute_reply.started": "2024-03-25T10:11:02.577191Z",
          "shell.execute_reply": "2024-03-25T10:11:02.648318Z"
        },
        "trusted": true,
        "id": "RbJK9whr0L15"
      },
      "execution_count": null,
      "outputs": []
    },
    {
      "cell_type": "markdown",
      "source": [
        "From the numerical description above, columns like Age, DailyRate, and Education have a balanced distribution of values. There are no significant skew (extreme outliers or very high/low data)."
      ],
      "metadata": {
        "id": "SpfryeC50L15"
      }
    },
    {
      "cell_type": "code",
      "source": [
        "# Finding Outliers with Interquartile Range (IQR)\n",
        "q1 = data['YearsAtCompany'].quantile(0.25)\n",
        "q3 = data['YearsAtCompany'].quantile(0.75)\n",
        "iqr = q3 - q1\n",
        "\n",
        "lower_bound = q1 - (1.5 * iqr)\n",
        "upper_bound = q3 + (1.5 * iqr)\n",
        "\n",
        "data[(data['YearsAtCompany'] < lower_bound) | (data['YearsAtCompany'] > upper_bound)]"
      ],
      "metadata": {
        "execution": {
          "iopub.status.busy": "2024-03-25T10:11:05.362062Z",
          "iopub.execute_input": "2024-03-25T10:11:05.362471Z",
          "iopub.status.idle": "2024-03-25T10:11:05.391629Z",
          "shell.execute_reply.started": "2024-03-25T10:11:05.362436Z",
          "shell.execute_reply": "2024-03-25T10:11:05.390348Z"
        },
        "trusted": true,
        "id": "ddtHKSRN0L16"
      },
      "execution_count": null,
      "outputs": []
    },
    {
      "cell_type": "markdown",
      "source": [
        "However, columns with large differences between mean & median like TotalWorkingYears, YearsAtCompany, YearsInCurrentRole, YearsSinceLastPromotion, and YearsWithCurrentManager have outliers, as shown from the code above."
      ],
      "metadata": {
        "id": "QQdzoBtB0L16"
      }
    },
    {
      "cell_type": "code",
      "source": [
        "# Describing Categorical Values\n",
        "data.describe(include = 'object')"
      ],
      "metadata": {
        "execution": {
          "iopub.status.busy": "2024-03-25T10:11:10.66608Z",
          "iopub.execute_input": "2024-03-25T10:11:10.666469Z",
          "iopub.status.idle": "2024-03-25T10:11:10.698401Z",
          "shell.execute_reply.started": "2024-03-25T10:11:10.666437Z",
          "shell.execute_reply": "2024-03-25T10:11:10.697077Z"
        },
        "trusted": true,
        "id": "44y51-Pu0L17"
      },
      "execution_count": null,
      "outputs": []
    },
    {
      "cell_type": "markdown",
      "source": [
        "From the categorical description, we can conclude points such as:\n",
        "* Most of the values in Attrition is No, meaning most employees resigned\n",
        "* Most employees are Sales Executives\n",
        "* There are more Male employees compared to Female employees\n",
        "* Most employees are Married"
      ],
      "metadata": {
        "id": "7qV5njKj0L17"
      }
    },
    {
      "cell_type": "code",
      "source": [
        "# Check for Null Data\n",
        "data.isnull().sum()"
      ],
      "metadata": {
        "execution": {
          "iopub.status.busy": "2024-03-25T10:11:13.214877Z",
          "iopub.execute_input": "2024-03-25T10:11:13.215279Z",
          "iopub.status.idle": "2024-03-25T10:11:13.228072Z",
          "shell.execute_reply.started": "2024-03-25T10:11:13.215243Z",
          "shell.execute_reply": "2024-03-25T10:11:13.226843Z"
        },
        "trusted": true,
        "id": "qoMJ0bfV0L17"
      },
      "execution_count": null,
      "outputs": []
    },
    {
      "cell_type": "markdown",
      "source": [
        "This means the dataset has no null values."
      ],
      "metadata": {
        "id": "zCx0vK8e0L18"
      }
    },
    {
      "cell_type": "markdown",
      "source": [
        "# Data Preparation & Pre-Processing"
      ],
      "metadata": {
        "id": "3nPR12pd0L18"
      }
    },
    {
      "cell_type": "markdown",
      "source": [
        "**Data Cleaning**"
      ],
      "metadata": {
        "id": "cYQhN14c0L18"
      }
    },
    {
      "cell_type": "code",
      "source": [
        "# Drop Outlier Datas\n",
        "data.drop(data[(data['TotalWorkingYears'] < lower_bound) | (data['TotalWorkingYears'] > upper_bound)]. index, inplace = True)\n",
        "data.drop(data[(data['YearsAtCompany'] < lower_bound) | (data['YearsAtCompany'] > upper_bound)]. index, inplace = True)\n",
        "data.drop(data[(data['YearsInCurrentRole'] < lower_bound) | (data['YearsInCurrentRole'] > upper_bound)]. index, inplace = True)\n",
        "data.drop(data[(data['YearsSinceLastPromotion'] < lower_bound) | (data['YearsSinceLastPromotion'] > upper_bound)]. index, inplace = True)\n",
        "data.drop(data[(data['YearsWithCurrManager'] < lower_bound) | (data['YearsWithCurrManager'] > upper_bound)]. index, inplace = True)"
      ],
      "metadata": {
        "execution": {
          "iopub.status.busy": "2024-03-25T10:11:16.26362Z",
          "iopub.execute_input": "2024-03-25T10:11:16.264094Z",
          "iopub.status.idle": "2024-03-25T10:11:16.283702Z",
          "shell.execute_reply.started": "2024-03-25T10:11:16.264051Z",
          "shell.execute_reply": "2024-03-25T10:11:16.281576Z"
        },
        "trusted": true,
        "id": "PyEcQzI00L19"
      },
      "execution_count": null,
      "outputs": []
    },
    {
      "cell_type": "markdown",
      "source": [
        "Additionally, columns 'EmployeeCount', 'Over18', 'StandardHours' contain only one unique value (all rows have the same values), which will not be useful later on. These columns will also be dropped."
      ],
      "metadata": {
        "id": "ZAr1NT6Z0L19"
      }
    },
    {
      "cell_type": "code",
      "source": [
        "# Drop Data with Only One Unique Value\n",
        "data.drop(['EmployeeCount', 'EmployeeNumber', 'Over18', 'StandardHours'], axis=\"columns\", inplace=True)"
      ],
      "metadata": {
        "execution": {
          "iopub.status.busy": "2024-03-25T10:11:18.376471Z",
          "iopub.execute_input": "2024-03-25T10:11:18.376862Z",
          "iopub.status.idle": "2024-03-25T10:11:18.38292Z",
          "shell.execute_reply.started": "2024-03-25T10:11:18.376829Z",
          "shell.execute_reply": "2024-03-25T10:11:18.381724Z"
        },
        "trusted": true,
        "id": "4u6b_eoN0L19"
      },
      "execution_count": null,
      "outputs": []
    },
    {
      "cell_type": "markdown",
      "source": [
        "**Data Transformation**"
      ],
      "metadata": {
        "id": "st2tptBA0L1-"
      }
    },
    {
      "cell_type": "markdown",
      "source": [
        "Transforming categorical values into numerical values"
      ],
      "metadata": {
        "id": "kIRPvzrA0L1-"
      }
    },
    {
      "cell_type": "code",
      "source": [
        "mapping = {\"Yes\": 1, \"No\": 0}\n",
        "data[\"Attrition\"] = data[\"Attrition\"].replace(mapping)\n",
        "data[\"Attrition\"] = data[\"Attrition\"].astype(\"int64\")\n",
        "data[\"OverTime\"] = data[\"OverTime\"].replace(mapping)\n",
        "data[\"OverTime\"] = data[\"OverTime\"].astype(\"int64\")"
      ],
      "metadata": {
        "execution": {
          "iopub.status.busy": "2024-03-25T10:11:20.82353Z",
          "iopub.execute_input": "2024-03-25T10:11:20.823938Z",
          "iopub.status.idle": "2024-03-25T10:11:20.834525Z",
          "shell.execute_reply.started": "2024-03-25T10:11:20.823905Z",
          "shell.execute_reply": "2024-03-25T10:11:20.833272Z"
        },
        "trusted": true,
        "id": "RNrZLYfS0L1-"
      },
      "execution_count": null,
      "outputs": []
    },
    {
      "cell_type": "code",
      "source": [
        "mapping2 = {\"Non-Travel\": 0, \"Travel_Rarely\": 1, \"Travel_Frequently\": 2}\n",
        "data[\"BusinessTravel\"] = data[\"BusinessTravel\"].replace(mapping2)\n",
        "data[\"BusinessTravel\"] = data[\"BusinessTravel\"].astype(\"int64\")"
      ],
      "metadata": {
        "execution": {
          "iopub.status.busy": "2024-03-25T10:11:22.639315Z",
          "iopub.execute_input": "2024-03-25T10:11:22.639744Z",
          "iopub.status.idle": "2024-03-25T10:11:22.648275Z",
          "shell.execute_reply.started": "2024-03-25T10:11:22.639706Z",
          "shell.execute_reply": "2024-03-25T10:11:22.647089Z"
        },
        "trusted": true,
        "id": "QaRpOOb00L1-"
      },
      "execution_count": null,
      "outputs": []
    },
    {
      "cell_type": "code",
      "source": [
        "mapping3 = {\"Research & Development\" : 0, \"Sales\" : 1, \"Human Resources\" : 2}\n",
        "data[\"Department\"] = data[\"Department\"].replace(mapping3)\n",
        "data[\"Department\"] = data[\"Department\"].astype(\"int64\")"
      ],
      "metadata": {
        "execution": {
          "iopub.status.busy": "2024-03-25T10:11:29.543362Z",
          "iopub.execute_input": "2024-03-25T10:11:29.543773Z",
          "iopub.status.idle": "2024-03-25T10:11:29.550889Z",
          "shell.execute_reply.started": "2024-03-25T10:11:29.543737Z",
          "shell.execute_reply": "2024-03-25T10:11:29.549418Z"
        },
        "trusted": true,
        "id": "B-r-xrGy0L1_"
      },
      "execution_count": null,
      "outputs": []
    },
    {
      "cell_type": "code",
      "source": [
        "mapping4 = {\"Life Sciences\": 0, \"Medical\": 1, \"Marketing\" : 2,\"Technical Degree\" : 3, \"Human Resources\" : 4, \"Other\" : 5  }\n",
        "data[\"EducationField\"] = data[\"EducationField\"].replace(mapping4)\n",
        "data[\"EducationField\"] = data[\"EducationField\"].astype(\"int64\")"
      ],
      "metadata": {
        "execution": {
          "iopub.status.busy": "2024-03-25T10:11:31.326908Z",
          "iopub.execute_input": "2024-03-25T10:11:31.327258Z",
          "iopub.status.idle": "2024-03-25T10:11:31.335975Z",
          "shell.execute_reply.started": "2024-03-25T10:11:31.32723Z",
          "shell.execute_reply": "2024-03-25T10:11:31.334874Z"
        },
        "trusted": true,
        "id": "z4oEnlJ50L1_"
      },
      "execution_count": null,
      "outputs": []
    },
    {
      "cell_type": "code",
      "source": [
        "mapping5 = {\"Male\": 1, \"Female\": 0}\n",
        "data[\"Gender\"] = data[\"Gender\"].replace(mapping5)\n",
        "data[\"Gender\"] = data[\"Gender\"].astype(\"int64\")"
      ],
      "metadata": {
        "execution": {
          "iopub.status.busy": "2024-03-25T10:12:55.816968Z",
          "iopub.execute_input": "2024-03-25T10:12:55.817393Z",
          "iopub.status.idle": "2024-03-25T10:12:55.825814Z",
          "shell.execute_reply.started": "2024-03-25T10:12:55.817357Z",
          "shell.execute_reply": "2024-03-25T10:12:55.824618Z"
        },
        "trusted": true,
        "id": "GCpHWMn20L2A"
      },
      "execution_count": null,
      "outputs": []
    },
    {
      "cell_type": "code",
      "source": [
        "mapping6 = {\"Human Resources\": 8, \"Manager\": 7,\"Healthcare Representative\": 6,\"Manufacturing Director\": 5, \"Laboratory Technician\" : 4,\"Sales Representative\": 3, \"Sales Executive\": 2,\"Research Director\":1, \"Research Scientist\": 0}\n",
        "data[\"JobRole\"] = data[\"JobRole\"].replace(mapping6)\n",
        "data[\"JobRole\"] = data[\"JobRole\"].astype(\"int64\")"
      ],
      "metadata": {
        "execution": {
          "iopub.status.busy": "2024-03-25T10:12:57.534558Z",
          "iopub.execute_input": "2024-03-25T10:12:57.534998Z",
          "iopub.status.idle": "2024-03-25T10:12:57.541566Z",
          "shell.execute_reply.started": "2024-03-25T10:12:57.53496Z",
          "shell.execute_reply": "2024-03-25T10:12:57.540705Z"
        },
        "trusted": true,
        "id": "vTO5aFew0L2A"
      },
      "execution_count": null,
      "outputs": []
    },
    {
      "cell_type": "code",
      "source": [
        "mapping7 = {\"Divorced\": 2,\"Married\": 1, \"Single\": 0}\n",
        "data[\"MaritalStatus\"] = data[\"MaritalStatus\"].replace(mapping7)\n",
        "data[\"MaritalStatus\"] = data[\"MaritalStatus\"].astype(\"int64\")"
      ],
      "metadata": {
        "execution": {
          "iopub.status.busy": "2024-03-25T10:12:59.555724Z",
          "iopub.execute_input": "2024-03-25T10:12:59.556132Z",
          "iopub.status.idle": "2024-03-25T10:12:59.561903Z",
          "shell.execute_reply.started": "2024-03-25T10:12:59.556097Z",
          "shell.execute_reply": "2024-03-25T10:12:59.561109Z"
        },
        "trusted": true,
        "id": "h7rfuzY70L2A"
      },
      "execution_count": null,
      "outputs": []
    },
    {
      "cell_type": "code",
      "source": [
        "data.info()"
      ],
      "metadata": {
        "execution": {
          "iopub.status.busy": "2024-03-25T10:13:01.812828Z",
          "iopub.execute_input": "2024-03-25T10:13:01.813195Z",
          "iopub.status.idle": "2024-03-25T10:13:01.827214Z",
          "shell.execute_reply.started": "2024-03-25T10:13:01.813165Z",
          "shell.execute_reply": "2024-03-25T10:13:01.825648Z"
        },
        "trusted": true,
        "id": "-KsuRHmc0L2B"
      },
      "execution_count": null,
      "outputs": []
    },
    {
      "cell_type": "markdown",
      "source": [
        "# Data Visualization"
      ],
      "metadata": {
        "id": "v9_15yYf0L2C"
      }
    },
    {
      "cell_type": "markdown",
      "source": [
        "1. Which columns have the top 5 highest correlations with each other?\n",
        "2. What factor influences employee's rate of attrition the most?"
      ],
      "metadata": {
        "id": "F2aM3TNl0L2C"
      }
    },
    {
      "cell_type": "code",
      "source": [
        "data.corr()"
      ],
      "metadata": {
        "execution": {
          "iopub.status.busy": "2024-03-25T10:13:07.848857Z",
          "iopub.execute_input": "2024-03-25T10:13:07.849232Z",
          "iopub.status.idle": "2024-03-25T10:13:07.89278Z",
          "shell.execute_reply.started": "2024-03-25T10:13:07.849203Z",
          "shell.execute_reply": "2024-03-25T10:13:07.891658Z"
        },
        "trusted": true,
        "id": "VMemiyd10L2C"
      },
      "execution_count": null,
      "outputs": []
    },
    {
      "cell_type": "code",
      "source": [
        "# Correlation Matrix (all columns)\n",
        "plt.figure(figsize=(30, 30))\n",
        "sns.heatmap(data.corr(), annot=True, fmt=\".2f\", cmap=\"coolwarm\", annot_kws={\"size\":15})"
      ],
      "metadata": {
        "execution": {
          "iopub.status.busy": "2024-03-25T10:17:28.585635Z",
          "iopub.execute_input": "2024-03-25T10:17:28.586067Z",
          "iopub.status.idle": "2024-03-25T10:17:32.437168Z",
          "shell.execute_reply.started": "2024-03-25T10:17:28.586033Z",
          "shell.execute_reply": "2024-03-25T10:17:32.434244Z"
        },
        "trusted": true,
        "id": "KaYc2elQ0L2C"
      },
      "execution_count": null,
      "outputs": []
    },
    {
      "cell_type": "markdown",
      "source": [
        "**Top 5 Highest Correlations**\n",
        "* JobLevel affects MonthlyIncome (0.88)\n",
        "* YearsInCurrentRole affects YearsAtCompany (0.86)\n",
        "* YearsAtCompany affects YearsWithCurrManager (0.85)\n",
        "* PerformanceRating affects PercentSalaryHike (0.77)\n",
        "* YearsInCurrentRole affects YearsWithCurrentManager (0.74)"
      ],
      "metadata": {
        "id": "fgYRMPcd0L2D"
      }
    },
    {
      "cell_type": "code",
      "source": [
        "# Correlations Matrix in Regards to Attrition\n",
        "\n",
        "# Selects 10 columns that has the highest correlation to Attrition\n",
        "col = data.corr().nlargest(10, \"Attrition\").Attrition.index\n",
        "\n",
        "plt.figure(figsize=(15, 15))\n",
        "sns.heatmap(data[col].corr(), annot=True, fmt=\".2f\", cmap=\"coolwarm\", annot_kws={\"size\":15})"
      ],
      "metadata": {
        "execution": {
          "iopub.status.busy": "2024-03-25T10:23:25.200188Z",
          "iopub.execute_input": "2024-03-25T10:23:25.200588Z",
          "iopub.status.idle": "2024-03-25T10:23:25.966524Z",
          "shell.execute_reply.started": "2024-03-25T10:23:25.200554Z",
          "shell.execute_reply": "2024-03-25T10:23:25.965688Z"
        },
        "trusted": true,
        "id": "Xwu5LyQx0L2D"
      },
      "execution_count": null,
      "outputs": []
    },
    {
      "cell_type": "markdown",
      "source": [
        "OverTime has the highest correlation with Attrition (0.27)."
      ],
      "metadata": {
        "id": "Nu8x4GOP0L2Q"
      }
    }
  ]
}